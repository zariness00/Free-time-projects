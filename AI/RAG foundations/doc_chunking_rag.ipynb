{
 "cells": [
  {
   "cell_type": "code",
   "execution_count": 1,
   "id": "a9378e93",
   "metadata": {
    "colab": {
     "base_uri": "https://localhost:8080/",
     "height": 825
    },
    "id": "a9378e93",
    "outputId": "31f833c3-aebc-4260-88eb-58b32018d0bc",
    "tags": [
     "setup"
    ]
   },
   "outputs": [],
   "source": [
    "# Scraped from https://en.wikipedia.org/wiki/Llama\n",
    "with open(\"Llama_Wikipedia_Cleaned.txt\", \"r\") as file:\n",
    "    content = file.read()"
   ]
  },
  {
   "cell_type": "code",
   "execution_count": 2,
   "id": "kzRiIVkxkA2z",
   "metadata": {
    "colab": {
     "base_uri": "https://localhost:8080/"
    },
    "id": "kzRiIVkxkA2z",
    "outputId": "2f076f49-00b6-4187-fcfb-0e7ca0a33419",
    "tags": [
     "cp1"
    ]
   },
   "outputs": [
    {
     "data": {
      "text/plain": [
       "['Llama - Wikipedia > Excerpt > Not to be confused with Ilama or Lama. --- Not to be confused with Ilama \"Ilama (disambiguation)\") or Lama. Eukaryota Kingdom: Chordata Class: Artiodactyla Family: Lama \"Lama (genus)\") Species: The llama (; Spanish pronunciation: [\\\\[ˈʎama\\\\]]( \"Help:IPA/Spanish\") or \\\\[ˈʝ',\n",
       " 'ama\\\\]) (Lama glama) is a domesticated South American camelid, widely used as a meat and pack animal by Andean cultures since the pre-Columbian era. Llamas are social animals and live with others as a herd. Their wool is soft and contains only a small amount of lanolin.[2] Llamas can learn simple tas',\n",
       " 'ks after a few repetitions. When using a pack, they can carry about 25 to 30% of their body weight for 8 to 13 km (5–8 miles).[3] The name llama (in the past also spelled \"lama\" or \"glama\") was adopted by European settlers from native Peruvians.[4] The ancestors of llamas are thought to have origina']"
      ]
     },
     "execution_count": 2,
     "metadata": {},
     "output_type": "execute_result"
    }
   ],
   "source": [
    "#chunking in the most naive way\n",
    "def split_content_into_equal_length(content, char_length):\n",
    "    return [content[i:i+char_length] for i in range(0, len(content), char_length)]\n",
    "\n",
    "split_content_into_equal_length(content, 300)[:3]\n",
    "#splitting the content into chunks of 300 characters each and return first 3 \n",
    "\n",
    "\n",
    "#the problem with this way is that the text is getting cut in the middle"
   ]
  },
  {
   "cell_type": "code",
   "execution_count": 3,
   "id": "9L4hxMl95qfr",
   "metadata": {
    "id": "9L4hxMl95qfr"
   },
   "outputs": [
    {
     "name": "stdout",
     "output_type": "stream",
     "text": [
      "['Llama - Wikipedia > Excerpt > Not to be confused with Ilama or Lama. --- Not to be confused with Ilama \"Ilama (disambiguation)\") or Lama. Eukaryota Kingdom: Chordata Class: Artiodactyla Family: Lama \"Lama (genus)\") Species: The llama (; Spanish pronunciation: [\\\\[ˈʎama\\\\]]( \"Help:IPA/Spanish\") or \\\\[ˈʝama\\\\]) (Lama glama) is a domesticated South American camelid, widely used as a meat and pack animal by Andean cultures since the pre-Columbian era. Llamas are social animals and live with others as a herd. Their wool is soft and contains only a small amount of lanolin.[2] Llamas can learn simple tasks after a few repetitions.', 'When using a pack, they can carry about 25 to 30% of their body weight for 8 to 13 km (5–8 miles).[3] The name llama (in the past also spelled \"lama\" or \"glama\") was adopted by European settlers from native Peruvians.[4] The ancestors of llamas are thought to have originated from the Great Plains of North America about 40 million years ago, and subsequently migrated to South America about three million years ago during the Great American Interchange. By the end of the last ice age (10,000–12,000 years ago), camelids were extinct in North America.[3] As of 2007, there were over seven million llamas and alpacas in South America and over 158,000 llamas and 100,000 alpacas, descended from progenitors imported late in the 20th century, in the United States and Canada.[5] In Aymara mythology, llamas are important beings. The Heavenly Llama is said to drink water from the ocean and urinates as it rains.[6] According to Aymara eschatology, llamas will return to the water springs and ponds where they come from at the end of time.[6] Classification , consist of the vicuña (Vicugna vicugna, prev. Lama vicugna), guanaco (Lama guanicoe), Suri alpaca, and Huacaya alpaca (Vicugna pacos, prev. Lama guanicoe pacos), and the domestic llama (Lama glama).', 'Guanacos and vicuñas live in the wild, while llamas and alpacas exist only as domesticated animals.[7] Although early writers compared llamas to sheep, their similarity to the camel was soon recognized. They were included in the genus Camelus along with alpaca in the Systema Naturae (1758) of Carl Linnaeus.[8] They were, however, separated by Georges Cuvier in 1800 under the name of lama along with the guanaco.[9] DNA analysis has confirmed that the guanaco is the wild ancestor of the llama, while the vicuña is the wild ancestor of the alpaca; the latter two were placed in the genus Vicugna.[10] The genera Lama and Vicugna are, with the two species of true camels, the sole existing representatives of a very distinct section of the Artiodactyla or even-toed ungulates, called Tylopoda, or \"bump-footed\", from the peculiar bumps on the soles of their feet. The Tylopoda consist of a single family, the Camelidae, and shares the order Artiodactyla with the Suina (pigs), the Tragulina (chevrotains), the Pecora (ruminants), and the Whippomorpha (hippos and cetaceans, which belong to Artiodactyla from a cladistic, if not traditional, standpoint). The Tylopoda have more or less affinity to each of the sister taxa, standing in some respects in a middle position between them, sharing some characteristics from each, but in others showing special modifications not found in any of the other taxa.[citation needed] \">citation needed] Llamas were not always confined to South America; abundant llama-like remains were found in Pleistocene deposits in the Rocky Mountains and in Central America. Some of the fossil llamas were much larger than current forms.']\n"
     ]
    }
   ],
   "source": [
    "#next way of chunking is to split by identifying signs \n",
    "def simple_sentence_splitter(text, chunk_size=5):\n",
    "    # Split text based on a period followed by a space, which is a common end of sentence marker\n",
    "    sentences = text.split('. ')\n",
    "    chunks = []\n",
    "\n",
    "    # Group sentences into chunks of 'chunk_size'\n",
    "    for i in range(0, len(sentences), chunk_size):\n",
    "        chunk = '. '.join(sentences[i:i+chunk_size]) + '.'\n",
    "        chunks.append(chunk)\n",
    "\n",
    "    return chunks\n",
    "\n",
    "# Example usage with the 'content' variable\n",
    "content_chunks = simple_sentence_splitter(content, 5)\n",
    "print(content_chunks[:3])\n",
    "\n",
    "#better outcome but not effective as we have many signs and to establish them will take a lot of time"
   ]
  },
  {
   "cell_type": "code",
   "execution_count": 4,
   "id": "IL7YJmFI6ckV",
   "metadata": {
    "id": "IL7YJmFI6ckV"
   },
   "outputs": [],
   "source": [
    "#the next way of splitting\n",
    "from langchain.text_splitter import RecursiveCharacterTextSplitter"
   ]
  },
  {
   "cell_type": "code",
   "execution_count": 5,
   "id": "7lbzVI5J6rxj",
   "metadata": {
    "id": "7lbzVI5J6rxj"
   },
   "outputs": [],
   "source": [
    "text_splitter = RecursiveCharacterTextSplitter(\n",
    "    separators=[\"\\n\\n\", \"\\n\", \". \", \"? \", \"! \"],  # List of characters to split on\n",
    "    chunk_size=600,  # The maximum size of your chunks\n",
    "    chunk_overlap=50,  # The maximum overlap between chunks\n",
    ")"
   ]
  },
  {
   "cell_type": "code",
   "execution_count": 6,
   "id": "-IQIZrpP62a3",
   "metadata": {
    "id": "-IQIZrpP62a3"
   },
   "outputs": [],
   "source": [
    "langchain_chunks = text_splitter.create_documents([content])"
   ]
  },
  {
   "cell_type": "markdown",
   "id": "Jz84K3rs667K",
   "metadata": {
    "id": "Jz84K3rs667K"
   },
   "source": [
    "The result is a list of `document` objects each representing a chunk, we can look at each chunk using the index."
   ]
  },
  {
   "cell_type": "code",
   "execution_count": 7,
   "id": "GZhSXArk6-kT",
   "metadata": {
    "id": "GZhSXArk6-kT"
   },
   "outputs": [
    {
     "data": {
      "text/plain": [
       "[Document(page_content='Llama - Wikipedia > Excerpt > Not to be confused with Ilama or Lama. --- Not to be confused with Ilama \"Ilama (disambiguation)\") or Lama. Eukaryota Kingdom: Chordata Class: Artiodactyla Family: Lama \"Lama (genus)\") Species: The llama (; Spanish pronunciation: [\\\\[ˈʎama\\\\]]( \"Help:IPA/Spanish\") or \\\\[ˈʝama\\\\]) (Lama glama) is a domesticated South American camelid, widely used as a meat and pack animal by Andean cultures since the pre-Columbian era. Llamas are social animals and live with others as a herd')]"
      ]
     },
     "execution_count": 7,
     "metadata": {},
     "output_type": "execute_result"
    }
   ],
   "source": [
    "langchain_chunks[:1]"
   ]
  },
  {
   "cell_type": "code",
   "execution_count": 8,
   "id": "fOfC9qjA8k84",
   "metadata": {
    "id": "fOfC9qjA8k84",
    "tags": [
     "cp2"
    ]
   },
   "outputs": [
    {
     "data": {
      "text/plain": [
       "[Document(page_content='Llama - Wikipedia > Excerpt > Not to be confused with Ilama or Lama. --- Not to be confused with Ilama \"Ilama (disambiguation)\") or Lama. Eukaryota Kingdom: Chordata Class: Artiodactyla Family: Lama \"Lama (genus)\") Species: The llama (; Spanish pronunciation: [\\\\[ˈʎama\\\\]]( \"Help:IPA/Spanish\") or \\\\[ˈʝama\\\\]) (Lama glama) is a domesticated South American camelid, widely used as a meat and pack animal by Andean cultures since the pre-Columbian era. Llamas are social animals and live with others as a herd. Their wool is soft and contains only a small amount of lanolin.[2] Llamas can learn simple tasks after a few repetitions. When using a pack, they can carry about 25 to 30% of their body weight for 8 to 13 km (5–8 miles).[3] The name llama (in the past also spelled \"lama\" or \"glama\") was adopted by European settlers from native Peruvians.[4] The ancestors of llamas are thought to have originated from the Great Plains of North America about 40 million years ago, and subsequently migrated to South America about three million years ago during the Great American Interchange. By the end of the last ice age (10,000–12,000 years ago), camelids were extinct in North America.[3] As of 2007, there were over seven million llamas and alpacas in South America and over 158,000 llamas and 100,000 alpacas, descended from progenitors imported late in the 20th century, in the United States and Canada.[5] In Aymara mythology, llamas are important beings. The Heavenly Llama is said to drink water')]"
      ]
     },
     "execution_count": 8,
     "metadata": {},
     "output_type": "execute_result"
    }
   ],
   "source": [
    "# Create a text splitter\n",
    "text_splitter = RecursiveCharacterTextSplitter(\n",
    "    chunk_size=1500,\n",
    "    chunk_overlap=300,\n",
    ")\n",
    "\n",
    "# Split the 'content' into chunks\n",
    "langchain_chunks = text_splitter.create_documents([content])\n",
    "\n",
    "# Print the first document\n",
    "langchain_chunks[:1]"
   ]
  },
  {
   "cell_type": "code",
   "execution_count": 9,
   "id": "9qlQlKCM-vxa",
   "metadata": {
    "id": "9qlQlKCM-vxa",
    "tags": [
     "cp3"
    ]
   },
   "outputs": [
    {
     "name": "stdout",
     "output_type": "stream",
     "text": [
      "{'ids': [['chunk_0']], 'distances': [[0.677453339099884]], 'metadatas': [[{'chunk_index': 0, 'source': 'https://en.wikipedia.org/wiki/Llama'}]], 'embeddings': None, 'documents': [['Llama - Wikipedia > Excerpt > Not to be confused with Ilama or Lama. --- Not to be confused with Ilama \"Ilama (disambiguation)\") or Lama. Eukaryota Kingdom: Chordata Class: Artiodactyla Family: Lama \"Lama (genus)\") Species: The llama (; Spanish pronunciation: [\\\\[ˈʎama\\\\]]( \"Help:IPA/Spanish\") or \\\\[ˈʝama\\\\]) (Lama glama) is a domesticated South American camelid, widely used as a meat and pack animal by Andean cultures since the pre-Columbian era. Llamas are social animals and live with others as a herd. Their wool is soft and contains only a small amount of lanolin.[2] Llamas can learn simple tasks after a few repetitions. When using a pack, they can carry about 25 to 30% of their body weight for 8 to 13 km (5–8 miles).[3] The name llama (in the past also spelled \"lama\" or \"glama\") was adopted by European settlers from native Peruvians.[4] The ancestors of llamas are thought to have originated from the Great Plains of North America about 40 million years ago, and subsequently migrated to South America about three million years ago during the Great American Interchange. By the end of the last ice age (10,000–12,000 years ago), camelids were extinct in North America.[3] As of 2007, there were over seven million llamas and alpacas in South America and over 158,000 llamas and 100,000 alpacas, descended from progenitors imported late in the 20th century, in the United States and Canada.[5] In Aymara mythology, llamas are important beings. The Heavenly Llama is said to drink water']], 'uris': None, 'data': None}\n"
     ]
    }
   ],
   "source": [
    "import chromadb\n",
    "\n",
    "# Instantiate a Chroma client\n",
    "chroma_client = chromadb.Client()\n",
    "\n",
    "# Create a new collection named \"llama_chunks\"\n",
    "collection = chroma_client.get_or_create_collection(name=\"llama_chunks\")\n",
    "\n",
    "\n",
    "# Iterate over the langchain_chunks using a for loop and enumerate\n",
    "for index, chunk in enumerate(langchain_chunks):\n",
    "    # Add a new document to the collection\n",
    "    collection.add(\n",
    "        ids=[f\"chunk_{index}\"],  # Specify the ids parameter as a list containing a single string in the format f\"chunk_{index}\"\n",
    "        documents=[chunk.page_content],  # Specify the documents parameter as a list containing a single string, which is the page_content of the current chunk\n",
    "        metadatas=[{\"source\": \"https://en.wikipedia.org/wiki/Llama\",\n",
    "                    \"chunk_index\": index}]  # Specify the metadatas parameter as a list containing a single dictionary with \"source\" and \"chunk_index\" keys\n",
    "    )\n",
    "\n",
    "# Query the collection\n",
    "results = collection.query(\n",
    "    query_texts=[\"What are llamas used for?\"],  # Specify the query_texts parameter as a list containing a single string, which is your query\n",
    "    n_results=1  # Specify the n_results parameter as an integer indicating the number of results you want\n",
    ")\n",
    "\n",
    "# Print the query results\n",
    "print(results)"
   ]
  }
 ],
 "metadata": {
  "colab": {
   "provenance": []
  },
  "kernelspec": {
   "display_name": "Python 3 (ipykernel)",
   "language": "python",
   "name": "python3"
  },
  "language_info": {
   "codemirror_mode": {
    "name": "ipython",
    "version": 3
   },
   "file_extension": ".py",
   "mimetype": "text/x-python",
   "name": "python",
   "nbconvert_exporter": "python",
   "pygments_lexer": "ipython3",
   "version": "3.12.1"
  }
 },
 "nbformat": 4,
 "nbformat_minor": 5
}
