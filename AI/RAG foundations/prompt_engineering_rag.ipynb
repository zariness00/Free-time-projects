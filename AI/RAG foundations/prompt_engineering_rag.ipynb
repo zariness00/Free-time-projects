{
 "cells": [
  {
   "cell_type": "markdown",
   "id": "8246b47c",
   "metadata": {
    "id": "8246b47c"
   },
   "source": [
    "<details><summary style=\"display:list-item; font-size:16px; color:blue;\">Jupyter Help</summary>\n",
    "    \n",
    "Having trouble testing your work? Double-check that you have followed the steps below to write, run, save, and test your code!\n",
    "    \n",
    "[Click here for a walkthrough GIF of the steps below](https://static-assets.codecademy.com/Courses/ds-python/jupyter-help.gif)\n",
    "\n",
    "Run all initial cells to import libraries and datasets. Then follow these steps for each question:\n",
    "    \n",
    "1. Add your solution to the cell with `## YOUR SOLUTION HERE ## `.\n",
    "2. Run the cell by selecting the `Run` button or the `Shift`+`Enter` keys.\n",
    "3. Save your work by selecting the `Save` button, the `command`+`s` keys (Mac), or `control`+`s` keys (Windows).\n",
    "4. Select the `Test Work` button at the bottom left to test your work.\n",
    "\n",
    "![Screenshot of the buttons at the top of a Jupyter Notebook. The Run and Save buttons are highlighted](https://static-assets.codecademy.com/Paths/ds-python/jupyter-buttons.png)"
   ]
  },
  {
   "cell_type": "markdown",
   "id": "ae023367",
   "metadata": {
    "id": "ae023367"
   },
   "source": [
    "**Setup**\n",
    "\n",
    "We will start by reusing some code we went over in previous exercises: loading and splitting text data from files, storing the chunks in a Chroma collection with metadata, and setting up an OpenAI client. We then query the collection to retrieve the most relevant chunk for a given question.\n",
    "\n",
    "    For our example documents, we'll be using the Wikipedia pages for three sci-fi/AI films: *Her*, *2001*, and *WALL-E*.\n",
    "    \n",
    "#### Note: The following cell is likely to take a minute to run."
   ]
  },
  {
   "cell_type": "code",
   "execution_count": 1,
   "id": "a9378e93",
   "metadata": {
    "id": "a9378e93",
    "tags": [
     "setup"
    ]
   },
   "outputs": [
    {
     "data": {
      "text/plain": [
       "{'ids': [['0-24']],\n",
       " 'distances': [[0.7828559279441833]],\n",
       " 'metadatas': [[{'chunk_idx': 24,\n",
       "    'title': '2001: A Space Odyssey',\n",
       "    'url': 'https://en.wikipedia.org/wiki/2001:_A_Space_Odyssey'}]],\n",
       " 'embeddings': None,\n",
       " 'documents': [['The screenplay credits were shared whereas the *2001* novel, released shortly after the film, was attributed to Clarke alone. Clarke wrote later that \"the nearest approximation to the complicated truth\" is that the screenplay should be credited to \"Kubrick and Clarke\" and the novel to \"Clarke and Kubrick\".<sup id=\"cite_ref-Clarke_pp.31-38_40-0\"><a href=\"https://en.wikipedia.org/wiki/2001:_A_Space_Odyssey#cite_note-Clarke_pp.31-38-40\">[40]</a></sup> Early reports about tensions involved in the writing of the film script appeared to reach a point where Kubrick was allegedly so dissatisfied with the collaboration that he approached other writers who could replace Clarke, including [Michael Moorcock](https://en.wikipedia.org/wiki/Michael_Moorcock \"Michael Moorcock\") and [J. G. Ballard](https://en.wikipedia.org/wiki/J._G._Ballard \"J. G. Ballard\"). But they felt it would be disloyal to accept Kubrick\\'s offer.<sup id=\"cite_ref-41\"><a href=\"https://en.wikipedia.org/wiki/2001:_A_Space_Odyssey#cite_note-41\">[41]</a></sup> In [Michael Benson](https://en.wikipedia.org/wiki/Michael_Benson_(filmmaker) \"Michael Benson (filmmaker)\")\\'s 2018 book *Space Odyssey: Stanley Kubrick, Arthur C. Clarke, and the Making of a Masterpiece*, the actual relation between Clarke and Kubrick was more complex, involving an extended interaction of Kubrick\\'s multiple requests for Clarke to write new plot lines for various segments of the film, which Clarke was expected to withhold from publication until after the release of the film while receiving advances on his salary from Kubrick during film production']],\n",
       " 'uris': None,\n",
       " 'data': None}"
      ]
     },
     "execution_count": 1,
     "metadata": {},
     "output_type": "execute_result"
    }
   ],
   "source": [
    "import chromadb\n",
    "from langchain.text_splitter import RecursiveCharacterTextSplitter\n",
    "from openai import OpenAI\n",
    "\n",
    "\n",
    "chroma_client = chromadb.Client()\n",
    "\n",
    "collection = chroma_client.get_or_create_collection(name=\"prompt_practice\")\n",
    "\n",
    "text_splitter = RecursiveCharacterTextSplitter(\n",
    "    separators=[\"\\n\\n\", \"\\n\", \". \", \"? \", \"! \"],  # List of characters to split on\n",
    "    chunk_size=2000,  # The maximum size of your chunks\n",
    "    chunk_overlap=400,  # The maximum overlap between chunks\n",
    ")\n",
    "\n",
    "texts = [\n",
    "    {\"file\": \"2001.txt\", \"url\": \"https://en.wikipedia.org/wiki/2001:_A_Space_Odyssey\", \"title\": \"2001: A Space Odyssey\"},\n",
    "    {\"file\": \"Her.txt\", \"url\": \"https://en.wikipedia.org/wiki/Her_(film)\", \"title\": \"Her\"},\n",
    "    {\"file\": \"WALLE.txt\", \"url\": \"https://en.wikipedia.org/wiki/WALL-E\", \"title\": \"WALL-E\"}\n",
    "]\n",
    "\n",
    "for idx, text in enumerate(texts):\n",
    "    with open(text[\"file\"], \"r\") as f:\n",
    "        content = f.read()\n",
    "    text['chunks'] = text_splitter.create_documents([content])\n",
    "    for chunk_idx, chunk in enumerate(text['chunks']):\n",
    "        collection.add(\n",
    "            documents=[chunk.page_content],\n",
    "            ids=[f\"{idx}-{chunk_idx}\"],\n",
    "            metadatas={\"chunk_idx\": chunk_idx, \"url\": text[\"url\"], \"title\": text['title']}\n",
    "\n",
    "        )\n",
    "\n",
    "\n",
    "client = OpenAI()\n",
    "\n",
    "collection.query(query_texts=[\"Who did Kubrick partner with in 2001?\"], n_results=1)"
   ]
  },
  {
   "cell_type": "markdown",
   "id": "mhzC1i_YwLbg",
   "metadata": {
    "id": "mhzC1i_YwLbg"
   },
   "source": [
    "Now that we're set up, we can get started prompting.\n",
    "\n",
    "Let's first create an easy way to prompt the LLM (in this case, GPT-4).\n",
    "\n",
    "We define the function `get_completion`, which sends a user prompt and a system prompt to the OpenAI API to generate a completion using the specified model. The `system_prompt` is set to define the assistant's role as a helpful RAG search assistant."
   ]
  },
  {
   "cell_type": "code",
   "execution_count": 2,
   "id": "f5210f6d",
   "metadata": {
    "id": "f5210f6d"
   },
   "outputs": [],
   "source": [
    "def get_completion(user_prompt, system_prompt, model=\"gpt-4\"):\n",
    "    completion = client.chat.completions.create(\n",
    "        model=model,\n",
    "        messages=[\n",
    "            {\"role\": \"system\", \"content\": system_prompt},\n",
    "            {\"role\": \"user\", \"content\": user_prompt}\n",
    "        ]\n",
    "    )\n",
    "    return completion.choices[0].message.content\n",
    "\n",
    "\n",
    "system_prompt = \"You are a helpful RAG search assistant who uses results from a search engine to answer user queries.\""
   ]
  },
  {
   "cell_type": "markdown",
   "id": "t6I4DLRfyFhn",
   "metadata": {
    "id": "t6I4DLRfyFhn"
   },
   "source": [
    "RAG (Retrieval-Augmented Generation) uses a vector database to retrieve text chunks relevant to a query, which are then inserted into a prompt. The prompt is fed to a language model that generates an informed answer by incorporating the retrieved information. Let's see how to assemble the prompts now."
   ]
  },
  {
   "cell_type": "markdown",
   "id": "079e0e0c",
   "metadata": {
    "id": "079e0e0c"
   },
   "source": [
    "#### Checkpoint 1/3"
   ]
  },
  {
   "cell_type": "markdown",
   "id": "7a8c74d0",
   "metadata": {
    "id": "7a8c74d0"
   },
   "source": [
    "Complete the `make_rag_prompt` function to generate a RAG prompt based on a given query and search results. It takes the following parameters.\n",
    "- `query`: The user's question or query.\n",
    "- `result_str`: The search results obtained from a document search, to be used as context for answering the query.\n",
    "\n",
    "Inside the function, return a prompt using an f-string that includes the following components:\n",
    "- Instructions for the model. We've written this one for you as an example, but read it carefully as a guide for writing your own, similar prompts in the future.\n",
    "- The user's question.\n",
    "- The search results.\n",
    "\n",
    "Your task below is to pass the variables corresponding to the user's query and the stringified search results from the vector database underneath the lines `User question:` and `Search Results:` respectively.\n",
    "\n",
    "Don't forget to run the cell and save the notebook before selecting `Test Work`! Open the `Jupyter Help` toggle at the top of the notebook for more details."
   ]
  },
  {
   "cell_type": "code",
   "execution_count": 3,
   "id": "uc2LYtF8irHi",
   "metadata": {
    "id": "uc2LYtF8irHi",
    "tags": [
     "cp1"
    ]
   },
   "outputs": [],
   "source": [
    "def make_rag_prompt(query, result_str):\n",
    "  return f\"\"\"\n",
    "Instructions:\n",
    "Your task is to answer the following user question. The search results of a document search have been included to give you more context. Use the information in Search Results to help you answer the question accurately.\n",
    "Not all information in the search results will be useful. However, if you find any information that's useful for answering the user's question, draw from it in your answer.\n",
    "\n",
    "User question:\n",
    "{query}\n",
    "\n",
    "\n",
    "Search Results:\n",
    "{result_str}\n",
    "\n",
    "\n",
    "Your answer:\n",
    "\"\"\""
   ]
  },
  {
   "cell_type": "markdown",
   "id": "6a172e5e",
   "metadata": {
    "id": "6a172e5e"
   },
   "source": [
    "#### Checkpoint 2/3\n",
    "\n",
    "Now we'll take the RAG prompt our function outputs and build the rest of the RAG functionality around it in a new function.\n",
    "\n",
    "Complete the `get_RAG_completion` function to retrieve relevant search results, format the RAG prompt, and generate a completion using the RAG prompt. It takes two parameters:\n",
    "\n",
    "- `query`: The user's question or query.\n",
    "- `n_results`: The number of search results to retrieve (default is 3).\n",
    "\n",
    "Inside the function, perform the following steps:\n",
    "\n",
    "- Query the Chroma collection to retrieve the relevant search results based on the user's query. Use the `collection.query` method with the appropriate parameters. Take a look at the example in the setup cell if you need to jog your memory. \n",
    "\n",
    "- Call the `make_rag_prompt` function, passing the user's query and the concatenated search results as arguments, to format the RAG prompt. It should be assigned to the `formatted_query` variable.\n",
    "\n",
    "- Return the `get_completion` function, passing the formatted RAG prompt as the user prompt and use the existing `system_prompt` as the system prompt, to generate the final completion.\n",
    "\n",
    "\n",
    "Don't forget to run the cell and save the notebook before selecting `Test Work`! Open the `Jupyter Help` toggle at the top of the notebook for more details."
   ]
  },
  {
   "cell_type": "code",
   "execution_count": 4,
   "id": "JeMq3bPAoKsD",
   "metadata": {
    "id": "JeMq3bPAoKsD",
    "tags": [
     "cp2"
    ]
   },
   "outputs": [
    {
     "name": "stdout",
     "output_type": "stream",
     "text": [
      "\n",
      "********This is the RAG prompt********\n",
      "\n",
      "\n",
      "Instructions:\n",
      "Your task is to answer the following user question. The search results of a document search have been included to give you more context. Use the information in Search Results to help you answer the question accurately.\n",
      "Not all information in the search results will be useful. However, if you find any information that's useful for answering the user's question, draw from it in your answer.\n",
      "\n",
      "User question:\n",
      "What was the plot of Spike Jonze's 'Her'?\n",
      "\n",
      "\n",
      "Search Results:\n",
      "# Her (film) - Wikipedia\n",
      "\n",
      "> ## Excerpt\n",
      "> \n",
      "\n",
      "---\n",
      "[![This is a good article. Click here for more information.](https://upload.wikimedia.org/wikipedia/en/thumb/9/94/Symbol_support_vote.svg/19px-Symbol_support_vote.svg.png)](https://en.wikipedia.org/wiki/Wikipedia:Good_articles* \"This is a good article. Click here for more information.\")\n",
      "\n",
      "From Wikipedia, the free encyclopedia\n",
      "\n",
      "| Her |\n",
      "| --- |\n",
      "| [![](https://upload.wikimedia.org/wikipedia/en/4/44/Her2013Poster.jpg)](https://en.wikipedia.org/wiki/File:Her2013Poster.jpg)\n",
      "Theatrical release poster\n",
      "\n",
      " |\n",
      "| Directed by | [Spike Jonze](https://en.wikipedia.org/wiki/Spike_Jonze \"Spike Jonze\") |\n",
      "| Written by | Spike Jonze |\n",
      "| Produced by | \n",
      "\n",
      "-   [Megan Ellison](https://en.wikipedia.org/wiki/Megan_Ellison \"Megan Ellison\")\n",
      "-   Spike Jonze\n",
      "-   [Vincent Landay](https://en.wikipedia.org/wiki/Vincent_Landay \"Vincent Landay\")\n",
      "\n",
      "\n",
      "\n",
      " |\n",
      "| Starring | \n",
      "\n",
      "-   [Joaquin Phoenix](https://en.wikipedia.org/wiki/Joaquin_Phoenix \"Joaquin Phoenix\")\n",
      "-   [Amy Adams](https://en.wikipedia.org/wiki/Amy_Adams \"Amy Adams\")\n",
      "-   [Rooney Mara](https://en.wikipedia.org/wiki/Rooney_Mara \"Rooney Mara\")\n",
      "-   [Olivia Wilde](https://en.wikipedia.org/wiki/Olivia_Wilde \"Olivia Wilde\")\n",
      "-   [Scarlett Johansson](https://en.wikipedia.org/wiki/Scarlett_Johansson \"Scarlett Johansson\")\n",
      "\n",
      "\n",
      "\n",
      " |\n",
      "| Cinematography | [Hoyte van Hoytema](https://en.wikipedia.org/wiki/Hoyte_van_Hoytema \"Hoyte van Hoytema\") |\n",
      "| Edited by | \n",
      "\n",
      "-   [Eric Zumbrunnen](https://en.wikipedia.org/wiki/Eric_Zumbrunnen \"Eric Zumbrunnen\")\n",
      "-   Jeff Buchanan\n",
      "\n",
      "\n",
      "\n",
      " |\n",
      "| Music by | [Arcade Fire](https://en.wikipedia.org/wiki/Arcade_Fire \"Arcade Fire\") |\n",
      "| \n",
      "\n",
      "Production  \n",
      "company\n",
      "\n",
      " | \n",
      "\n",
      "[Annapurna Pictures](https://en.wikipedia.org/wiki/Annapurna_Pictures \"Annapurna Pictures\")\n",
      "\n",
      "\n",
      "\n",
      " |\n",
      "| Distributed by | [Warner Bros. Pictures](https://en.wikipedia.org/wiki/Warner_Bros._Pictures \"Warner Bros. Pictures\") |\n",
      "| \n",
      "\n",
      "Release dates\n",
      "\n",
      " |### Critical response\\[[edit](https://en.wikipedia.org/w/index.php?title=Her_(film)&action=edit&section=11 \"Edit section: Critical response\")\\]\n",
      "\n",
      "On [Rotten Tomatoes](https://en.wikipedia.org/wiki/Rotten_Tomatoes \"Rotten Tomatoes\"), the film has an approval rating of 94% based on 288 reviews, with an average rating of 8.5/10. The site's critical consensus reads, \"Sweet, soulful, and smart, Spike Jonze's *Her* uses its just-barely-sci-fi scenario to impart wryly funny wisdom about the state of modern human relationships.\"<sup id=\"cite_ref-Rotten_Tomatoes_52-0\"><a href=\"https://en.wikipedia.org/wiki/Her_(film)#cite_note-Rotten_Tomatoes-52\">[52]</a></sup> On [Metacritic](https://en.wikipedia.org/wiki/Metacritic \"Metacritic\"), the film has a weighted average score of 91 out of 100, based on 47 critics, indicating \"universal acclaim\".<sup id=\"cite_ref-53\"><a href=\"https://en.wikipedia.org/wiki/Her_(film)#cite_note-53\">[53]</a></sup> Audiences polled by [CinemaScore](https://en.wikipedia.org/wiki/CinemaScore \"CinemaScore\") gave the film an average grade of \"B−\" on an A+ to F scale.<sup id=\"cite_ref-CinemaScore_54-0\"><a href=\"https://en.wikipedia.org/wiki/Her_(film)#cite_note-CinemaScore-54\">[54]</a></sup>***Her*** (stylized in lowercase) is a 2013 American [science-fiction](https://en.wikipedia.org/wiki/Science_fiction_film \"Science fiction film\") [romantic](https://en.wikipedia.org/wiki/Romance_film \"Romance film\") [drama](https://en.wikipedia.org/wiki/Drama_(film_and_television) \"Drama (film and television)\") film written, directed, and co-produced by [Spike Jonze](https://en.wikipedia.org/wiki/Spike_Jonze \"Spike Jonze\"). It marks Jonze's solo screenwriting debut. The film follows Theodore Twombly ([Joaquin Phoenix](https://en.wikipedia.org/wiki/Joaquin_Phoenix \"Joaquin Phoenix\")), a man who develops a relationship with Samantha ([Scarlett Johansson](https://en.wikipedia.org/wiki/Scarlett_Johansson \"Scarlett Johansson\")), an [artificially intelligent](https://en.wikipedia.org/wiki/Artificial_intelligence \"Artificial intelligence\") [virtual assistant](https://en.wikipedia.org/wiki/Virtual_assistant \"Virtual assistant\") personified through a female voice. The film also stars [Amy Adams](https://en.wikipedia.org/wiki/Amy_Adams \"Amy Adams\"), [Rooney Mara](https://en.wikipedia.org/wiki/Rooney_Mara \"Rooney Mara\"), [Olivia Wilde](https://en.wikipedia.org/wiki/Olivia_Wilde \"Olivia Wilde\"), and [Chris Pratt](https://en.wikipedia.org/wiki/Chris_Pratt \"Chris Pratt\"). The film was dedicated to [James Gandolfini](https://en.wikipedia.org/wiki/James_Gandolfini \"James Gandolfini\"), [Harris Savides](https://en.wikipedia.org/wiki/Harris_Savides \"Harris Savides\"), [Maurice Sendak](https://en.wikipedia.org/wiki/Maurice_Sendak \"Maurice Sendak\") and [Adam Yauch](https://en.wikipedia.org/wiki/Adam_Yauch \"Adam Yauch\"), who all died before the film's release.\n",
      "\n",
      "\n",
      "Your answer:\n",
      "\n",
      "\n",
      "*********************************\\n\n"
     ]
    },
    {
     "data": {
      "text/plain": [
       "\"The plot of Spike Jonze's 'Her' revolves around Theodore Twombly, a lonely man in a near-future Los Angeles who works as a writer of personalized letters for people unable to express their emotions. The story unfolds as Theodore, who is going through the final stages of a painful divorce, becomes intrigued by a new, advanced operating system advertised as being uniquely intuitive and capable of evolving.\\n\\nHe decides to purchase the OS and during the setup he chooses a female identity for his virtual assistant. The AI names herself Samantha and is voiced by Scarlett Johansson. As Theodore and Samantha begin to interact, their relationship deepens, with Samantha's intelligence and sensitivity growing far beyond her initial programming.\\n\\nTheir unusual relationship explores themes of love, human connection, and the nature of consciousness. Over time, they fall in love, although Theodore struggles with the complexities of having feelings for an entity that does not have a physical presence in the real world.\\n\\nThe film also touches on Theodore's relationships with other human characters, including his longtime friend Amy, his ex-wife Catherine, and brief romantic interest Olivia. These dynamics further flesh out Theodore's emotional landscape and contribute to his ultimate personal growth.\\n\\nThe plot raises thought-provoking questions about the future of technology, human interaction, and the essence of love, ultimately leading Theodore to confront the reality of his situation and the need to move forward with his life.\""
      ]
     },
     "execution_count": 4,
     "metadata": {},
     "output_type": "execute_result"
    }
   ],
   "source": [
    "def get_RAG_completion(query, n_results=3):\n",
    "    ## YOUR SOLUTION HERE ##\n",
    "    search_results = collection.query(query_texts = query , n_results = n_results)\n",
    "    result_str = \"\"\n",
    "    for result in search_results[\"documents\"][0]:\n",
    "        result_str += result\n",
    "    ## YOUR SOLUTION HERE ##\n",
    "    formatted_query = make_rag_prompt(query, result_str)\n",
    "    print(\"\\n********This is the RAG prompt********\\n\")\n",
    "    print(formatted_query)\n",
    "    print(\"\\n*********************************\\\\n\")\n",
    "    return get_completion(formatted_query, system_prompt)\n",
    "\n",
    "get_RAG_completion(\"What was the plot of Spike Jonze's 'Her'?\")"
   ]
  },
  {
   "cell_type": "markdown",
   "id": "8d481799",
   "metadata": {
    "id": "8d481799"
   },
   "source": [
    "#### Checkpoint 3/3\n",
    "\n",
    "Now you'll practice tweaking the prompt to coax the model into citing the sources it uses in its answer.\n",
    "\n",
    "Append the following text at the end of the \"Instructions\" section in the prompt:\n",
    "`At the end of your answer, cite the URL of the search result your answer draws from. Use the following format:\n",
    "<Your answer here>. Source: <URL of the search result your answer comes from here>`\n",
    "\n",
    "At the bottom of the cell, we call the same query we used in the last checkpoint. Compare it to the existing example to see how well the model managed to cite its sources.\n",
    "\n",
    "Don't forget to run the cell and save the notebook before selecting `Test Work`! Open the `Jupyter Help` toggle at the top of the notebook for more details."
   ]
  },
  {
   "cell_type": "code",
   "execution_count": 5,
   "id": "lRew6ZDwqybE",
   "metadata": {
    "id": "lRew6ZDwqybE",
    "tags": [
     "cp3"
    ]
   },
   "outputs": [
    {
     "name": "stdout",
     "output_type": "stream",
     "text": [
      "\n",
      "********This is the cited RAG prompt********\n",
      "\n",
      "\n",
      "Instructions:\n",
      "Your task is to answer the following user question. The search results of a document search have been included to give you more context. Use the information in Search Results to help you answer the question accurately.\n",
      "Not all information in the search results will be useful. However, if you find any information that's useful for answering the user's question, draw from it in your answer.\n",
      "At the end of your answer, cite the URL of the search result your answer draws from. Use the following format:\n",
      "<Your answer here>. Source: <URL of the search result your answer comes from here>\n",
      "\n",
      "User question:\n",
      "What was the plot of Spike Jonze's 'Her'?\n",
      "\n",
      "Search Results:\n",
      "# Her (film) - Wikipedia\n",
      "\n",
      "> ## Excerpt\n",
      "> \n",
      "\n",
      "---\n",
      "[![This is a good article. Click here for more information.](https://upload.wikimedia.org/wikipedia/en/thumb/9/94/Symbol_support_vote.svg/19px-Symbol_support_vote.svg.png)](https://en.wikipedia.org/wiki/Wikipedia:Good_articles* \"This is a good article. Click here for more information.\")\n",
      "\n",
      "From Wikipedia, the free encyclopedia\n",
      "\n",
      "| Her |\n",
      "| --- |\n",
      "| [![](https://upload.wikimedia.org/wikipedia/en/4/44/Her2013Poster.jpg)](https://en.wikipedia.org/wiki/File:Her2013Poster.jpg)\n",
      "Theatrical release poster\n",
      "\n",
      " |\n",
      "| Directed by | [Spike Jonze](https://en.wikipedia.org/wiki/Spike_Jonze \"Spike Jonze\") |\n",
      "| Written by | Spike Jonze |\n",
      "| Produced by | \n",
      "\n",
      "-   [Megan Ellison](https://en.wikipedia.org/wiki/Megan_Ellison \"Megan Ellison\")\n",
      "-   Spike Jonze\n",
      "-   [Vincent Landay](https://en.wikipedia.org/wiki/Vincent_Landay \"Vincent Landay\")\n",
      "\n",
      "\n",
      "\n",
      " |\n",
      "| Starring | \n",
      "\n",
      "-   [Joaquin Phoenix](https://en.wikipedia.org/wiki/Joaquin_Phoenix \"Joaquin Phoenix\")\n",
      "-   [Amy Adams](https://en.wikipedia.org/wiki/Amy_Adams \"Amy Adams\")\n",
      "-   [Rooney Mara](https://en.wikipedia.org/wiki/Rooney_Mara \"Rooney Mara\")\n",
      "-   [Olivia Wilde](https://en.wikipedia.org/wiki/Olivia_Wilde \"Olivia Wilde\")\n",
      "-   [Scarlett Johansson](https://en.wikipedia.org/wiki/Scarlett_Johansson \"Scarlett Johansson\")\n",
      "\n",
      "\n",
      "\n",
      " |\n",
      "| Cinematography | [Hoyte van Hoytema](https://en.wikipedia.org/wiki/Hoyte_van_Hoytema \"Hoyte van Hoytema\") |\n",
      "| Edited by | \n",
      "\n",
      "-   [Eric Zumbrunnen](https://en.wikipedia.org/wiki/Eric_Zumbrunnen \"Eric Zumbrunnen\")\n",
      "-   Jeff Buchanan\n",
      "\n",
      "\n",
      "\n",
      " |\n",
      "| Music by | [Arcade Fire](https://en.wikipedia.org/wiki/Arcade_Fire \"Arcade Fire\") |\n",
      "| \n",
      "\n",
      "Production  \n",
      "company\n",
      "\n",
      " | \n",
      "\n",
      "[Annapurna Pictures](https://en.wikipedia.org/wiki/Annapurna_Pictures \"Annapurna Pictures\")\n",
      "\n",
      "\n",
      "\n",
      " |\n",
      "| Distributed by | [Warner Bros. Pictures](https://en.wikipedia.org/wiki/Warner_Bros._Pictures \"Warner Bros. Pictures\") |\n",
      "| \n",
      "\n",
      "Release dates\n",
      "\n",
      " |### Critical response\\[[edit](https://en.wikipedia.org/w/index.php?title=Her_(film)&action=edit&section=11 \"Edit section: Critical response\")\\]\n",
      "\n",
      "On [Rotten Tomatoes](https://en.wikipedia.org/wiki/Rotten_Tomatoes \"Rotten Tomatoes\"), the film has an approval rating of 94% based on 288 reviews, with an average rating of 8.5/10. The site's critical consensus reads, \"Sweet, soulful, and smart, Spike Jonze's *Her* uses its just-barely-sci-fi scenario to impart wryly funny wisdom about the state of modern human relationships.\"<sup id=\"cite_ref-Rotten_Tomatoes_52-0\"><a href=\"https://en.wikipedia.org/wiki/Her_(film)#cite_note-Rotten_Tomatoes-52\">[52]</a></sup> On [Metacritic](https://en.wikipedia.org/wiki/Metacritic \"Metacritic\"), the film has a weighted average score of 91 out of 100, based on 47 critics, indicating \"universal acclaim\".<sup id=\"cite_ref-53\"><a href=\"https://en.wikipedia.org/wiki/Her_(film)#cite_note-53\">[53]</a></sup> Audiences polled by [CinemaScore](https://en.wikipedia.org/wiki/CinemaScore \"CinemaScore\") gave the film an average grade of \"B−\" on an A+ to F scale.<sup id=\"cite_ref-CinemaScore_54-0\"><a href=\"https://en.wikipedia.org/wiki/Her_(film)#cite_note-CinemaScore-54\">[54]</a></sup>***Her*** (stylized in lowercase) is a 2013 American [science-fiction](https://en.wikipedia.org/wiki/Science_fiction_film \"Science fiction film\") [romantic](https://en.wikipedia.org/wiki/Romance_film \"Romance film\") [drama](https://en.wikipedia.org/wiki/Drama_(film_and_television) \"Drama (film and television)\") film written, directed, and co-produced by [Spike Jonze](https://en.wikipedia.org/wiki/Spike_Jonze \"Spike Jonze\"). It marks Jonze's solo screenwriting debut. The film follows Theodore Twombly ([Joaquin Phoenix](https://en.wikipedia.org/wiki/Joaquin_Phoenix \"Joaquin Phoenix\")), a man who develops a relationship with Samantha ([Scarlett Johansson](https://en.wikipedia.org/wiki/Scarlett_Johansson \"Scarlett Johansson\")), an [artificially intelligent](https://en.wikipedia.org/wiki/Artificial_intelligence \"Artificial intelligence\") [virtual assistant](https://en.wikipedia.org/wiki/Virtual_assistant \"Virtual assistant\") personified through a female voice. The film also stars [Amy Adams](https://en.wikipedia.org/wiki/Amy_Adams \"Amy Adams\"), [Rooney Mara](https://en.wikipedia.org/wiki/Rooney_Mara \"Rooney Mara\"), [Olivia Wilde](https://en.wikipedia.org/wiki/Olivia_Wilde \"Olivia Wilde\"), and [Chris Pratt](https://en.wikipedia.org/wiki/Chris_Pratt \"Chris Pratt\"). The film was dedicated to [James Gandolfini](https://en.wikipedia.org/wiki/James_Gandolfini \"James Gandolfini\"), [Harris Savides](https://en.wikipedia.org/wiki/Harris_Savides \"Harris Savides\"), [Maurice Sendak](https://en.wikipedia.org/wiki/Maurice_Sendak \"Maurice Sendak\") and [Adam Yauch](https://en.wikipedia.org/wiki/Adam_Yauch \"Adam Yauch\"), who all died before the film's release.\n",
      "\n",
      "Your answer:\n",
      "\n",
      "\n",
      "*********************************\\n\n"
     ]
    },
    {
     "data": {
      "text/plain": [
       "\"The plot of Spike Jonze's 'Her' revolves around Theodore Twombly (played by Joaquin Phoenix), a man who develops a relationship with Samantha (voiced by Scarlett Johansson), an artificially intelligent virtual assistant personified through a female voice. The story unfolds in a near-future setting and explores the complex nature of love and human relationships as Theodore's connection with Samantha becomes deeper and more emotionally significant. The film also features performances by Amy Adams, Rooney Mara, Olivia Wilde, and Chris Pratt. 'Her' is Jonze's solo screenwriting debut and is both a science-fiction and romantic drama film that provides insightful commentary on the state of modern human relationships and our interaction with technology. Source: https://en.wikipedia.org/wiki/Her_(film)\""
      ]
     },
     "execution_count": 5,
     "metadata": {},
     "output_type": "execute_result"
    }
   ],
   "source": [
    "def make_cited_rag_prompt(query, result_str):\n",
    "  return f\"\"\"\n",
    "Instructions:\n",
    "Your task is to answer the following user question. The search results of a document search have been included to give you more context. Use the information in Search Results to help you answer the question accurately.\n",
    "Not all information in the search results will be useful. However, if you find any information that's useful for answering the user's question, draw from it in your answer.\n",
    "At the end of your answer, cite the URL of the search result your answer draws from. Use the following format:\n",
    "<Your answer here>. Source: <URL of the search result your answer comes from here>\n",
    "\n",
    "User question:\n",
    "{query}\n",
    "\n",
    "Search Results:\n",
    "{result_str}\n",
    "\n",
    "Your answer:\n",
    "\"\"\"\n",
    "\n",
    "def get_cited_RAG_completion(query, n_results=3):\n",
    "    ## YOUR SOLUTION HERE ##\n",
    "    search_results = collection.query(query_texts=[query], n_results=n_results)\n",
    "    result_str = \"\"\n",
    "    for result in search_results[\"documents\"][0]:\n",
    "        result_str += result\n",
    "    ## YOUR SOLUTION HERE ##\n",
    "    formatted_query = make_cited_rag_prompt(query, result_str)\n",
    "    print(\"\\n********This is the cited RAG prompt********\\n\")\n",
    "    print(formatted_query)\n",
    "    print(\"\\n*********************************\\\\n\")\n",
    "    return get_completion(formatted_query, system_prompt)\n",
    "\n",
    "get_cited_RAG_completion(\"What was the plot of Spike Jonze's 'Her'?\")"
   ]
  },
  {
   "cell_type": "code",
   "execution_count": null,
   "id": "3df5cb94",
   "metadata": {},
   "outputs": [],
   "source": []
  }
 ],
 "metadata": {
  "colab": {
   "provenance": []
  },
  "kernelspec": {
   "display_name": "Python 3 (ipykernel)",
   "language": "python",
   "name": "python3"
  },
  "language_info": {
   "codemirror_mode": {
    "name": "ipython",
    "version": 3
   },
   "file_extension": ".py",
   "mimetype": "text/x-python",
   "name": "python",
   "nbconvert_exporter": "python",
   "pygments_lexer": "ipython3",
   "version": "3.12.1"
  }
 },
 "nbformat": 4,
 "nbformat_minor": 5
}
