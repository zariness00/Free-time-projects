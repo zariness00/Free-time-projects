{
 "cells": [
  {
   "cell_type": "code",
   "execution_count": 1,
   "metadata": {},
   "outputs": [],
   "source": [
    "import chromadb"
   ]
  },
  {
   "cell_type": "code",
   "execution_count": 3,
   "metadata": {},
   "outputs": [],
   "source": [
    "from langchain.text_splitter import RecursiveCharacterTextSplitter"
   ]
  },
  {
   "cell_type": "code",
   "execution_count": 8,
   "metadata": {
    "id": "ui7ngtfA-g0u",
    "tags": [
     "setup"
    ]
   },
   "outputs": [],
   "source": [
    "files = [\n",
    "    {\n",
    "        \"title\": \"Pizza\",\n",
    "        \"source_url\": \"https://raw.githubusercontent.com/selva86/datasets/refs/heads/master/lda_sports_politics_docs/pasta.txt\",\n",
    "        \"filename\": \"pizza.txt\"\n",
    "  },\n",
    "  {\n",
    "        \"title\": \"Pasta\",\n",
    "        \"source_url\": \"https://raw.githubusercontent.com/selva86/datasets/refs/heads/master/lda_sports_politics_docs/pasta.txt\",\n",
    "        \"filename\": \"pasta.txt\"\n",
    "  }\n",
    "]\n"
   ]
  },
  {
   "cell_type": "code",
   "execution_count": 11,
   "metadata": {},
   "outputs": [
    {
     "name": "stdout",
     "output_type": "stream",
     "text": [
      "Downloaded: pizza.txt\n"
     ]
    }
   ],
   "source": [
    "import requests\n",
    "file_path = f\"./{files[0]['filename']}\"\n",
    "response = requests.get(files[0][\"source_url\"])\n",
    "\n",
    "if response.status_code == 200:\n",
    "    with open(file_path, \"w\", encoding=\"utf-8\") as f:\n",
    "        f.write(response.text)\n",
    "    print(f\"Downloaded: {files[0]['filename']}\")\n",
    "else:\n",
    "    raise Exception(f\"Failed to download: {files[0]['filename']}\")"
   ]
  },
  {
   "cell_type": "code",
   "execution_count": 9,
   "metadata": {
    "colab": {
     "base_uri": "https://localhost:8080/",
     "height": 108
    },
    "id": "K1ZjyAS2G76Z",
    "outputId": "77ea3e46-041d-4232-befc-80ac176b593e",
    "tags": [
     "cp1"
    ]
   },
   "outputs": [],
   "source": [
    "# Instantiate a Chroma persistent client\n",
    "client = chromadb.PersistentClient(\"./\")\n",
    "\n",
    "\n",
    "## YOUR SOLUTION HERE ##\n",
    "collection  = client.get_or_create_collection(name = \"RAG_Assistant\", metadata= {\"hnsw:space\": \"cosine\"})\n"
   ]
  },
  {
   "cell_type": "code",
   "execution_count": 12,
   "metadata": {
    "colab": {
     "base_uri": "https://localhost:8080/"
    },
    "id": "6DZ3YoV9OM-X",
    "outputId": "b45929a2-3579-4894-97ea-1e1bca81c536",
    "tags": [
     "cp2"
    ]
   },
   "outputs": [
    {
     "data": {
      "text/plain": [
       "[Document(metadata={}, page_content='Pasta is a staple food of traditional Italian cuisine, with the first reference dating to 1154 in Sicily. It is also commonly used to refer to the variety of pasta dishes. Typically, pasta is a noodle made from an unleavened dough of a durum wheat flour mixed with water or eggs and formed into sheets or various shapes, then cooked by boiling or baking. It can also be made with flour from other cereals or grains. Pastas may be divided into two broad categories, dried (pasta secca) and fresh (pasta fresca).\\nMost dried pasta is commercially produced via an extrusion process. Fresh pasta was traditionally produced by hand, sometimes with the aid of simple machines, but today many varieties of fresh pasta are also commercially produced by large-scale machines, and the products are widely available in supermarkets.\\nBoth dried and fresh pasta come in a number of shapes and varieties, with 310 specific forms known variably by over 1300 names having been documented. In Italy the names of specific pasta shapes or types often vary with locale. For example, the form cavatelli is known by 28 different names depending on region and town. Common forms of pasta include long shapes, short shapes, tubes, flat shapes and sheets, miniature soup shapes, filled or stuffed, and specialty or decorative shapes.')]"
      ]
     },
     "execution_count": 12,
     "metadata": {},
     "output_type": "execute_result"
    }
   ],
   "source": [
    "#Read first file content\n",
    "with open(file_path, \"r\", encoding=\"utf-8\") as file:\n",
    "    content = file.read()\n",
    "\n",
    "# Create a text splitter\n",
    "## YOUR SOLUTION HERE ##\n",
    "text_splitter = RecursiveCharacterTextSplitter(\n",
    "  separators = [\"\\n\\n\", \"\\n\", \". \", \"? \", \"! \"],\n",
    "  chunk_size = 1500,\n",
    "  chunk_overlap = 200 \n",
    "  )\n",
    "\n",
    "\n",
    "\n",
    "# Split the 'content' into chunks\n",
    "chunks = text_splitter.create_documents([content])\n",
    "\n",
    "# Print the first document\n",
    "chunks[:1]"
   ]
  },
  {
   "cell_type": "code",
   "execution_count": 14,
   "metadata": {
    "colab": {
     "base_uri": "https://localhost:8080/"
    },
    "id": "oxQykt0YBGgk",
    "outputId": "4bdfc3e7-3761-4f3e-9372-a2ad8eb55c36",
    "tags": [
     "cp3"
    ]
   },
   "outputs": [],
   "source": [
    "#Create empty lists to store each document, metadata, and id\n",
    "documents = []\n",
    "metadatas = []\n",
    "ids = []\n",
    "\n",
    "#Loop through each file in files\n",
    "for file_info in files:\n",
    "    with open(file_path, \"r\", encoding=\"utf-8\") as file:\n",
    "        content = file.read()\n",
    "        #Use text_splitter to create documents\n",
    "        chunks = text_splitter.create_documents([content])\n",
    "        #iterate over every chunk\n",
    "        for index, chunk in enumerate(chunks):\n",
    "            #Append to metadata list with \"title\", \"source_url\", and \"index\"\n",
    "            metadatas.append({\n",
    "                \"title\": file_info[\"title\"],\n",
    "                \"source_url\": file_info[\"source_url\"],\n",
    "                \"chunk_idx\": index\n",
    "            })\n",
    "            #Append to ids each index\n",
    "            ids.append(f\"{file_info['filename']}_{index}\")\n",
    "            \n",
    "            #Append to documents each chunk.page_content\n",
    "            ### YOUR SOLUTION HERE ###\n",
    "            documents.append(chunk.page_content)\n",
    "        \n",
    "            "
   ]
  },
  {
   "cell_type": "code",
   "execution_count": 16,
   "metadata": {
    "colab": {
     "base_uri": "https://localhost:8080/"
    },
    "id": "oxQykt0YBGgk",
    "outputId": "4bdfc3e7-3761-4f3e-9372-a2ad8eb55c36",
    "tags": [
     "cp4"
    ]
   },
   "outputs": [
    {
     "name": "stderr",
     "output_type": "stream",
     "text": [
      "Add of existing embedding ID: pizza.txt_0\n",
      "Add of existing embedding ID: pasta.txt_0\n",
      "Insert of existing embedding ID: pizza.txt_0\n",
      "Insert of existing embedding ID: pasta.txt_0\n"
     ]
    },
    {
     "data": {
      "text/plain": [
       "{'ids': [['pizza.txt_0']],\n",
       " 'embeddings': None,\n",
       " 'documents': [['Pasta is a staple food of traditional Italian cuisine, with the first reference dating to 1154 in Sicily. It is also commonly used to refer to the variety of pasta dishes. Typically, pasta is a noodle made from an unleavened dough of a durum wheat flour mixed with water or eggs and formed into sheets or various shapes, then cooked by boiling or baking. It can also be made with flour from other cereals or grains. Pastas may be divided into two broad categories, dried (pasta secca) and fresh (pasta fresca).\\nMost dried pasta is commercially produced via an extrusion process. Fresh pasta was traditionally produced by hand, sometimes with the aid of simple machines, but today many varieties of fresh pasta are also commercially produced by large-scale machines, and the products are widely available in supermarkets.\\nBoth dried and fresh pasta come in a number of shapes and varieties, with 310 specific forms known variably by over 1300 names having been documented. In Italy the names of specific pasta shapes or types often vary with locale. For example, the form cavatelli is known by 28 different names depending on region and town. Common forms of pasta include long shapes, short shapes, tubes, flat shapes and sheets, miniature soup shapes, filled or stuffed, and specialty or decorative shapes.']],\n",
       " 'uris': None,\n",
       " 'data': None,\n",
       " 'metadatas': [[{'chunk_idx': 0,\n",
       "    'source_url': 'https://raw.githubusercontent.com/selva86/datasets/refs/heads/master/lda_sports_politics_docs/pasta.txt',\n",
       "    'title': 'Pizza'}]],\n",
       " 'distances': [[0.38764159384811214]],\n",
       " 'included': [<IncludeEnum.distances: 'distances'>,\n",
       "  <IncludeEnum.documents: 'documents'>,\n",
       "  <IncludeEnum.metadatas: 'metadatas'>]}"
      ]
     },
     "execution_count": 16,
     "metadata": {},
     "output_type": "execute_result"
    }
   ],
   "source": [
    "#Add all documents to the collection\n",
    "collection.add(documents=documents, metadatas=metadatas, ids=ids)\n",
    "\n",
    "#Verify documents were added to collection with a sample query\n",
    "### YOUR SOLUTION HERE ###\n",
    "collection.query(query_texts=[\"When was pasta invented?\"], n_results = 1)\n"
   ]
  },
  {
   "cell_type": "markdown",
   "metadata": {},
   "source": [
    "The results are returned as a dictionary and the cosine similarities for each result is also returned with the key `distances`."
   ]
  },
  {
   "cell_type": "code",
   "execution_count": null,
   "metadata": {},
   "outputs": [],
   "source": []
  }
 ],
 "metadata": {
  "colab": {
   "provenance": []
  },
  "kernelspec": {
   "display_name": ".venv",
   "language": "python",
   "name": "python3"
  },
  "language_info": {
   "codemirror_mode": {
    "name": "ipython",
    "version": 3
   },
   "file_extension": ".py",
   "mimetype": "text/x-python",
   "name": "python",
   "nbconvert_exporter": "python",
   "pygments_lexer": "ipython3",
   "version": "3.9.7"
  }
 },
 "nbformat": 4,
 "nbformat_minor": 1
}
